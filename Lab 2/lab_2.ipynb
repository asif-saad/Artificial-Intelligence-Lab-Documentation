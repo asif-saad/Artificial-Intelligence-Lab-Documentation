{
  "nbformat": 4,
  "nbformat_minor": 0,
  "metadata": {
    "colab": {
      "provenance": []
    },
    "kernelspec": {
      "name": "python3",
      "display_name": "Python 3"
    },
    "language_info": {
      "name": "python"
    }
  },
  "cells": [
    {
      "cell_type": "markdown",
      "source": [
        "#Segment 1 – Supervised Learning\n",
        "<h2>What is Supervised Learning?\n",
        "Supervised learning is a type of machine learning where a model learns from labeled data to make predictions. The model is trained using input data (features) and corresponding outputs (labels) and aims to generalize patterns to make predictions on unseen data.\n",
        "\n",
        "<h2>Key Concepts in Supervised Learning\n",
        "Features (Inputs):\n",
        "\n",
        "<h2>The variables that the model uses to make predictions.\n",
        "\n",
        "<h2>Example: For house price prediction, features might include square footage, number of bedrooms, etc.\n",
        "\n",
        "\n",
        "<h2>Labels (Outputs):\n",
        "\n",
        "<h2>The target variable we want to predict.\n",
        "Example: The house price in a prediction task.\n",
        "\n",
        "\n",
        "<h2>Training:\n",
        "\n",
        "<h2>The process of feeding data to the model and adjusting its parameters to minimize errors.\n",
        "\n",
        "\n",
        "<h2>Generalization:\n",
        "\n",
        "<h2>The ability of the model to perform well on unseen data, not just the training data.\n",
        "\n",
        "\n",
        "<h2>Types of Supervised Learning\n",
        "Classification:\n",
        "<h2>The task of predicting categories or classes.\n",
        "Example: Is an email spam or not? (Classes: Spam, Not Spam)\n",
        "Code Example: Classifying Iris flower species.\n"
      ],
      "metadata": {
        "id": "7a8I-A3uS4Fo"
      }
    },
    {
      "cell_type": "code",
      "source": [
        "from sklearn.datasets import load_iris\n",
        "from sklearn.model_selection import train_test_split\n",
        "from sklearn.ensemble import RandomForestClassifier\n",
        "from sklearn.metrics import accuracy_score\n",
        "\n",
        "# Load the Iris dataset\n",
        "iris = load_iris()\n",
        "X, y = iris.data, iris.target\n",
        "\n",
        "# Split the data into training and test sets\n",
        "X_train, X_test, y_train, y_test = train_test_split(X, y, test_size=0.3, random_state=42)\n",
        "\n",
        "# Train a Random Forest Classifier\n",
        "model = RandomForestClassifier()\n",
        "model.fit(X_train, y_train)\n",
        "\n",
        "# Make predictions\n",
        "y_pred = model.predict(X_test)\n",
        "\n",
        "# Evaluate the model\n",
        "print(\"Accuracy:\", accuracy_score(y_test, y_pred))\n"
      ],
      "metadata": {
        "id": "wNGIimZEUGsu",
        "colab": {
          "base_uri": "https://localhost:8080/"
        },
        "outputId": "06f23f4e-30f9-455b-8cb9-afbdf6f00c28"
      },
      "execution_count": null,
      "outputs": [
        {
          "output_type": "stream",
          "name": "stdout",
          "text": [
            "Accuracy: 1.0\n"
          ]
        }
      ]
    },
    {
      "cell_type": "markdown",
      "source": [
        "<h2>Regression:\n",
        "The task of predicting continuous values.\n",
        "Example: Predicting house prices based on features.\n",
        "Code Example: Predicting house prices."
      ],
      "metadata": {
        "id": "lwRmiSAtS59d"
      }
    },
    {
      "cell_type": "code",
      "source": [
        "from sklearn.datasets import make_regression\n",
        "from sklearn.model_selection import train_test_split\n",
        "from sklearn.linear_model import LinearRegression\n",
        "from sklearn.metrics import mean_squared_error\n",
        "\n",
        "# Generate a synthetic regression dataset\n",
        "X, y = make_regression(n_samples=100, n_features=1, noise=10, random_state=42)\n",
        "\n",
        "# Split the data into training and test sets\n",
        "X_train, X_test, y_train, y_test = train_test_split(X, y, test_size=0.3, random_state=42)\n",
        "\n",
        "# Train a Linear Regression model\n",
        "model = LinearRegression()\n",
        "model.fit(X_train, y_train)\n",
        "\n",
        "# Make predictions\n",
        "y_pred = model.predict(X_test)\n",
        "\n",
        "# Evaluate the model\n",
        "mse = mean_squared_error(y_test, y_pred)\n",
        "print(\"Mean Squared Error:\", mse)\n"
      ],
      "metadata": {
        "id": "NC2TCjoMS6HG",
        "colab": {
          "base_uri": "https://localhost:8080/"
        },
        "outputId": "94916189-4124-4c89-a9e8-027e403a48f4"
      },
      "execution_count": null,
      "outputs": [
        {
          "output_type": "stream",
          "name": "stdout",
          "text": [
            "Mean Squared Error: 103.47302683438758\n"
          ]
        }
      ]
    },
    {
      "cell_type": "markdown",
      "source": [
        "<h2>Applications of Supervised Learning\n",
        "Natural Language Processing (NLP):\n",
        "\n",
        "<h2>Sentiment analysis: Classifying text as positive or negative.\n",
        "Spam detection: Determining whether an email is spam.\n",
        "Computer Vision:\n",
        "\n",
        "<h2>Image classification: Identifying objects in images (e.g., cats vs. dogs).\n",
        "Face recognition: Recognizing individuals in photos.\n",
        "Healthcare:\n",
        "\n",
        "<h2>Disease prediction: Predicting diseases based on symptoms or patient data.\n",
        "Medical imaging: Detecting anomalies in X-rays or MRIs.\n",
        "Finance:\n",
        "\n",
        "<h2>Credit risk analysis: Predicting the likelihood of loan default.\n",
        "Stock price prediction: Estimating future stock values.\n",
        "\n",
        "\n",
        "\n",
        "<h2>Supervised Learning Workflow\n",
        "Let’s walk through the general steps of supervised learning.\n",
        "\n",
        "<h2>Collect Data:\n",
        "\n",
        "<h2>Obtain labeled data (e.g., emails with spam/not spam labels).\n",
        "Preprocess Data:\n",
        "\n",
        "<h2>Clean the data and handle missing values.\n",
        "Split Data:\n",
        "\n",
        "<h2>Divide data into training, validation, and test sets.\n",
        "<h2>Train a Model:\n",
        "\n",
        "<h2>Use training data to teach the model to make predictions.\n",
        "<h2>Validate the Model:\n",
        "\n",
        "<h2>Evaluate performance on validation data and tune hyperparameters.\n",
        "<h2>Test the Model:\n",
        "\n",
        "<h2>Assess the model’s accuracy on unseen test data.\n",
        "\n",
        "\n",
        "Blog on Count Vectoriser: https://medium.com/swlh/understanding-count-vectorizer-5dd71530c1b\n",
        "\n",
        "\n",
        "<h2>Practical Example: Predicting Email Spam\n",
        "In this example, we’ll classify emails as spam or not spam using a supervised learning model."
      ],
      "metadata": {
        "id": "UJXcQgY2S6eN"
      }
    },
    {
      "cell_type": "code",
      "source": [
        "from sklearn.feature_extraction.text import CountVectorizer\n",
        "from sklearn.model_selection import train_test_split\n",
        "from sklearn.naive_bayes import MultinomialNB\n",
        "from sklearn.metrics import accuracy_score\n",
        "\n",
        "# Sample email dataset\n",
        "emails = [\n",
        "    \"Free money!!!\",\n",
        "    \"Win a free car now!\",\n",
        "    \"Important meeting tomorrow\",\n",
        "    \"Buy one get one free\",\n",
        "    \"Your invoice is due\",\n",
        "]\n",
        "labels = [1, 1, 0, 1, 0]  # 1 = Spam, 0 = Not Spam\n",
        "\n",
        "# Convert text to numerical features\n",
        "vectorizer = CountVectorizer()\n",
        "X = vectorizer.fit_transform(emails)\n",
        "\n",
        "# Split into training and test sets\n",
        "X_train, X_test, y_train, y_test = train_test_split(X, labels, test_size=0.3, random_state=42)\n",
        "\n",
        "# Train a Naive Bayes classifier\n",
        "model = MultinomialNB()\n",
        "model.fit(X_train, y_train)\n",
        "\n",
        "# Make predictions\n",
        "y_pred = model.predict(X_test)\n",
        "\n",
        "# Evaluate the model\n",
        "print(\"Accuracy:\", accuracy_score(y_test, y_pred))\n"
      ],
      "metadata": {
        "id": "1gpfzCYdS6mh",
        "colab": {
          "base_uri": "https://localhost:8080/"
        },
        "outputId": "469f561e-1b7d-4b19-ad05-a0074951051f"
      },
      "execution_count": null,
      "outputs": [
        {
          "output_type": "stream",
          "name": "stdout",
          "text": [
            "Accuracy: 1.0\n"
          ]
        }
      ]
    },
    {
      "cell_type": "markdown",
      "source": [
        "<h2>Understanding Model Performance\n",
        "It’s important to evaluate how well your model is doing. Here are some common metrics:\n",
        "\n",
        "<h2>Accuracy: The percentage of correct predictions.\n",
        "Good for balanced datasets.\n",
        "Precision and Recall: Useful for imbalanced datasets.\n",
        "Precision: How many predicted positives are true positives.\n",
        "Recall: How many actual positives were correctly predicted.\n",
        "Code Example: Evaluating Precision and Recall"
      ],
      "metadata": {
        "id": "w2XKUqpKS6ws"
      }
    },
    {
      "cell_type": "code",
      "source": [
        "from sklearn.metrics import precision_score, recall_score, f1_score\n",
        "\n",
        "# Example predictions\n",
        "y_true = [1, 0, 1, 1, 0]  # True labels\n",
        "y_pred = [1, 0, 1, 0, 0]  # Predicted labels\n",
        "\n",
        "# Calculate precision, recall, and F1-score\n",
        "precision = precision_score(y_true, y_pred)\n",
        "recall = recall_score(y_true, y_pred)\n",
        "f1 = f1_score(y_true, y_pred)\n",
        "\n",
        "print(\"Precision:\", precision)\n",
        "print(\"Recall:\", recall)\n",
        "print(\"F1 Score:\", f1)\n"
      ],
      "metadata": {
        "id": "B6j8jyUhS624",
        "colab": {
          "base_uri": "https://localhost:8080/"
        },
        "outputId": "efa790ce-3ac6-438c-f2de-3cd79b54d759"
      },
      "execution_count": null,
      "outputs": [
        {
          "output_type": "stream",
          "name": "stdout",
          "text": [
            "Precision: 1.0\n",
            "Recall: 0.6666666666666666\n",
            "F1 Score: 0.8\n"
          ]
        }
      ]
    },
    {
      "cell_type": "markdown",
      "source": [
        "<h2>Common Challenges in Supervised Learning\n",
        "Overfitting:\n",
        "\n",
        "<h2>The model performs well on training data but poorly on test data.\n",
        "\n",
        "\n",
        "<h2>Solution: Use regularization or more data.\n",
        "\n",
        "\n",
        "<h2>Underfitting:\n",
        "\n",
        "<h2>The model is too simple and doesn’t capture the patterns in the data.\n",
        "\n",
        "\n",
        "<h2>Solution: Use a more complex model.\n",
        "\n",
        "\n",
        "\n",
        "<h2>Class Imbalance:\n",
        "\n",
        "<h2>When one class dominates the dataset (e.g., 95% non-spam and 5% spam emails).\n",
        "\n",
        "\n",
        "<h2>Solution: Use techniques like oversampling the minority class.\n",
        "\n",
        "\n",
        "\n",
        "\n",
        "\n",
        "\n",
        "<h2>SMOTE (Synthetic Minority Over-sampling Technique) is a technique used to address class imbalance in machine learning, especially when one class has significantly fewer samples than the other. This imbalance can lead to biased models that tend to predict the majority class more accurately, but perform poorly on the minority class.\n",
        "\n",
        "\n",
        "\n",
        "\n",
        "\n",
        "\n",
        "<h2>How SMOTE Works:\n",
        "SMOTE generates synthetic samples for the minority class by creating new instances that are similar to existing ones, rather than by simply duplicating them. It works by selecting a minority class sample, finding its nearest neighbors, and then creating synthetic instances by interpolating between the sample and its neighbors.\n",
        "\n",
        "Introduction to SMOTE: https://medium.com/@corymaklin/synthetic-minority-over-sampling-technique-smote-7d419696b88c\n",
        "\n",
        "SMOTE and its Variants: https://medium.com/analytics-vidhya/handling-imbalanced-data-by-oversampling-with-smote-and-its-variants-23a4bf188eaf\n",
        "\n",
        "Handling Imbalanced Data with SMOTE: https://medium.com/@thecontentfarmblog/smote-a-powerful-technique-for-handling-imbalanced-data-2375ad46103c\n",
        "\n",
        "Consideration & Limitations: https://medium.com/@minjukim023/smote-practical-consideration-limitations-f0d926b661a8\n",
        "\n",
        "\n",
        "<h2>Code Example: Handling Class Imbalance"
      ],
      "metadata": {
        "id": "HiqHQk9QS6_V"
      }
    },
    {
      "cell_type": "code",
      "source": [
        "from imblearn.over_sampling import SMOTE\n",
        "from collections import Counter\n",
        "\n",
        "# Example imbalanced dataset\n",
        "X_imbalanced = [[1], [2], [3], [4], [5], [6], [7], [8], [9]]\n",
        "y_imbalanced = [0, 0, 0, 0, 0, 1, 1, 1, 1]\n",
        "\n",
        "# Apply SMOTE with reduced k_neighbors\n",
        "smote = SMOTE(random_state=42, k_neighbors=3)\n",
        "X_resampled, y_resampled = smote.fit_resample(X_imbalanced, y_imbalanced)\n",
        "\n",
        "print(\"Original dataset size:\", Counter(y_imbalanced))\n",
        "print(\"Resampled dataset size:\", Counter(y_resampled))\n"
      ],
      "metadata": {
        "id": "0Z5UkwgSS7Ff",
        "colab": {
          "base_uri": "https://localhost:8080/"
        },
        "outputId": "e8ec5391-4f43-4a59-e2ab-174a6695fb68"
      },
      "execution_count": 1,
      "outputs": [
        {
          "output_type": "stream",
          "name": "stdout",
          "text": [
            "Original dataset size: Counter({0: 5, 1: 4})\n",
            "Resampled dataset size: Counter({0: 5, 1: 5})\n"
          ]
        }
      ]
    },
    {
      "cell_type": "markdown",
      "source": [
        "<h2>Key Takeaways\n",
        "Supervised learning uses labeled data to train models.\n",
        "It can be used for classification or regression tasks.\n",
        "Data quality and proper evaluation are critical for success.\n",
        "Avoid overfitting and underfitting by tuning your model and using validation data."
      ],
      "metadata": {
        "id": "8ag4ghAXS7MG"
      }
    },
    {
      "cell_type": "markdown",
      "source": [
        "<h2><u>Lecture Notes: Segment 2 – Importance of Datasets</u>\n",
        "\n",
        "<h2>What is a Dataset?\n",
        "\n",
        "<h2>A dataset is a collection of data points that are used to train and test machine learning models. Each data point in a dataset typically consists of:\n",
        "\n",
        "<h2>Features (Inputs): These are the variables used to make predictions (e.g., text, numbers, images).\n",
        "\n",
        "\n",
        "<h2>Labels (Outputs): These are the target variables that the model tries to predict.\n",
        "\n",
        "\n",
        "<h2>Why Are Datasets Important?\n",
        "The quality and characteristics of your dataset directly impact the performance of your machine learning model.\n",
        "\n",
        "<h2>Key Reasons:\n",
        "\n",
        "\n",
        "<h2>Training the Model:\n",
        "\n",
        "\n",
        "<h2>The model learns patterns and relationships from the dataset.\n",
        "A poor-quality dataset leads to inaccurate predictions.\n",
        "\n",
        "\n",
        "<h2>Generalization:\n",
        "\n",
        "<h2>A good dataset helps the model generalize well to unseen data.\n",
        "Overfitting occurs if the dataset doesn’t represent real-world scenarios.\n",
        "\n",
        "\n",
        "\n",
        "\n",
        "<h2>Feature Representation:\n",
        "\n",
        "<h2>Features must be meaningful and relevant to the task. Irrelevant or redundant features can confuse the model.\n",
        "\n",
        "\n",
        "\n",
        "<h2>What Makes a Good Dataset?\n",
        "\n",
        "\n",
        "<h2>Relevance:\n",
        "\n",
        "<h2>The data should align with the task or problem you're solving.\n",
        "Example: For predicting stock prices, include financial indicators, not weather data.\n",
        "\n",
        "\n",
        "\n",
        "<h2>Diversity:\n",
        "\n",
        "<h2>Ensure the dataset covers all possible scenarios or variations.\n",
        "\n",
        "\n",
        "<h2>Example: For object detection, include images with different angles, lighting, and backgrounds.\n",
        "\n",
        "\n",
        "\n",
        "<h2>Quality:\n",
        "\n",
        "\n",
        "\n",
        "<h2>Remove errors, duplicates, and inconsistencies.\n",
        "\n",
        "\n",
        "<h2>Example: If labels are noisy (e.g., incorrect sentiment tags), the model will learn incorrect patterns.\n",
        "\n",
        "\n",
        "\n",
        "<h2>Size:\n",
        "\n",
        "<h2>The dataset should be large enough for the model to capture patterns.\n",
        "\n",
        "\n",
        "<h2>Example: Neural networks require more data compared to simpler models like linear regression.\n",
        "\n",
        "\n",
        "\n",
        "<h2>Balanced Classes:\n",
        "\n",
        "<h2>Avoid class imbalance where one category dominates.\n",
        "\n",
        "\n",
        "\n",
        "<h2>Example: If 90% of emails are \"Not Spam\" and 10% are \"Spam,\" the model might always predict \"Not Spam.\"\n",
        "\n",
        "\n",
        "\n",
        "\n",
        "\n",
        "\n",
        "\n",
        "\n",
        "\n",
        "<h2>Types of Datasets\n",
        "\n",
        "\n",
        "<h2>Structured Data:\n",
        "\n",
        "<h2>Organized into rows and columns (e.g., spreadsheets, databases).\n",
        "\n",
        "\n",
        "<h2>Example: Sales records with features like product name, price, and quantity.\n",
        "\n",
        "\n",
        "\n",
        "<h2>Unstructured Data:\n",
        "\n",
        "<h2>Data that doesn’t follow a predefined structure (e.g., text, images, videos).\n",
        "\n",
        "\n",
        "<h2>Example: Tweets for sentiment analysis or photos for object recognition.\n",
        "\n",
        "\n",
        "<h2>Time-Series Data:\n",
        "\n",
        "<h2>Sequential data indexed by time (e.g., stock prices, weather data).\n",
        "\n",
        "\n",
        "<h2>Example: Temperature readings every hour.\n",
        "\n",
        "\n",
        "\n",
        "\n",
        "\n",
        "\n",
        "\n",
        "\n",
        "\n",
        "<h2>Common Challenges with Datasets\n",
        "\n",
        "\n",
        "\n",
        "<h2>Class Imbalance:\n",
        "\n",
        "<h2>If one class is overrepresented, the model may ignore minority classes.\n",
        "\n",
        "\n",
        "<h2>Solution: Use oversampling (e.g., SMOTE) or undersampling techniques.\n",
        "\n",
        "\n",
        "<h2>Noisy Data:\n",
        "\n",
        "<h2>Data with incorrect labels or inconsistencies.\n",
        "\n",
        "\n",
        "<h2>Solution: Clean the data manually or use automated cleaning tools.\n",
        "\n",
        "\n",
        "<h2>Missing Data:\n",
        "\n",
        "<h2>Some features might have missing values.\n",
        "\n",
        "\n",
        "<h2>Solution: Fill missing values using techniques like mean imputation or predictive imputation.\n",
        "\n",
        "\n",
        "<h2>Bias:\n",
        "\n",
        "<h2>A dataset might reflect societal or sampling biases, leading to unfair predictions.\n",
        "\n",
        "\n",
        "<h2>Solution: Audit the dataset for fairness and ensure diverse representation.\n",
        "\n",
        "\n",
        "\n",
        "\n",
        "<h2>Code Example: Exploring a Dataset\n",
        "We’ll use a built-in dataset from scikit-learn and explore its structure."
      ],
      "metadata": {
        "id": "_H4ogYezXLqP"
      }
    },
    {
      "cell_type": "code",
      "source": [
        "from sklearn.datasets import load_iris\n",
        "import pandas as pd\n",
        "\n",
        "# Load the Iris dataset\n",
        "iris = load_iris()\n",
        "\n",
        "# Create a DataFrame for better visualization\n",
        "data = pd.DataFrame(iris.data, columns=iris.feature_names)\n",
        "data['label'] = iris.target\n",
        "\n",
        "# Display the first few rows\n",
        "print(\"Dataset Preview:\")\n",
        "print(data.head())\n",
        "\n",
        "# Check class distribution\n",
        "print(\"\\nClass Distribution:\")\n",
        "print(data['label'].value_counts())\n"
      ],
      "metadata": {
        "id": "wmarz7WVS7Td",
        "colab": {
          "base_uri": "https://localhost:8080/"
        },
        "outputId": "06c47746-042f-43a0-9f90-16a20cfd5925"
      },
      "execution_count": null,
      "outputs": [
        {
          "output_type": "stream",
          "name": "stdout",
          "text": [
            "Dataset Preview:\n",
            "   sepal length (cm)  sepal width (cm)  petal length (cm)  petal width (cm)  \\\n",
            "0                5.1               3.5                1.4               0.2   \n",
            "1                4.9               3.0                1.4               0.2   \n",
            "2                4.7               3.2                1.3               0.2   \n",
            "3                4.6               3.1                1.5               0.2   \n",
            "4                5.0               3.6                1.4               0.2   \n",
            "\n",
            "   label  \n",
            "0      0  \n",
            "1      0  \n",
            "2      0  \n",
            "3      0  \n",
            "4      0  \n",
            "\n",
            "Class Distribution:\n",
            "label\n",
            "0    50\n",
            "1    50\n",
            "2    50\n",
            "Name: count, dtype: int64\n"
          ]
        }
      ]
    },
    {
      "cell_type": "markdown",
      "source": [
        "<h2>Code Example: Handling Missing Data\n",
        "Let’s simulate missing data and handle it."
      ],
      "metadata": {
        "id": "euudmzDfS7ay"
      }
    },
    {
      "cell_type": "code",
      "source": [
        "import pandas as pd\n",
        "import numpy as np\n",
        "\n",
        "# Create a sample dataset with missing values\n",
        "data = pd.DataFrame({\n",
        "    \"Feature1\": [1, 2, np.nan, 4],\n",
        "    \"Feature2\": [np.nan, 2, 3, 4],\n",
        "    \"Label\": [0, 1, 0, 1]\n",
        "})\n",
        "\n",
        "print(\"Original Data:\")\n",
        "print(data)\n",
        "\n",
        "# Fill missing values with the mean\n",
        "data['Feature1'] = data['Feature1'].fillna(data['Feature1'].mean())\n",
        "data['Feature2'] = data['Feature2'].fillna(data['Feature2'].mean())\n",
        "\n",
        "print(\"\\nData After Handling Missing Values:\")\n",
        "print(data)"
      ],
      "metadata": {
        "id": "3F4OJMKES7gb",
        "colab": {
          "base_uri": "https://localhost:8080/"
        },
        "outputId": "4b456620-776d-49ba-c5ee-e677664232e2"
      },
      "execution_count": null,
      "outputs": [
        {
          "output_type": "stream",
          "name": "stdout",
          "text": [
            "Original Data:\n",
            "   Feature1  Feature2  Label\n",
            "0       1.0       NaN      0\n",
            "1       2.0       2.0      1\n",
            "2       NaN       3.0      0\n",
            "3       4.0       4.0      1\n",
            "\n",
            "Data After Handling Missing Values:\n",
            "   Feature1  Feature2  Label\n",
            "0  1.000000       3.0      0\n",
            "1  2.000000       2.0      1\n",
            "2  2.333333       3.0      0\n",
            "3  4.000000       4.0      1\n"
          ]
        }
      ]
    },
    {
      "cell_type": "markdown",
      "source": [
        "<h2>Code Example: Class Imbalance\n",
        "Here’s how to identify and handle class imbalance using SMOTE."
      ],
      "metadata": {
        "id": "2mxECL3iS7nJ"
      }
    },
    {
      "cell_type": "code",
      "source": [
        "from imblearn.over_sampling import SMOTE\n",
        "from collections import Counter\n",
        "\n",
        "# Simulate an imbalanced dataset\n",
        "X = [[i] for i in range(10)]\n",
        "y = [0, 0, 0, 0, 0, 1, 1, 1, 1, 1]\n",
        "\n",
        "print(\"Original Class Distribution:\", Counter(y))\n",
        "\n",
        "# Apply SMOTE to balance the dataset\n",
        "smote = SMOTE(random_state=42)\n",
        "X_resampled, y_resampled = smote.fit_resample(X, y)\n",
        "\n",
        "print(\"Resampled Class Distribution:\", Counter(y_resampled))"
      ],
      "metadata": {
        "id": "xOQtU99yS7tO"
      },
      "execution_count": null,
      "outputs": []
    },
    {
      "cell_type": "markdown",
      "source": [
        "<h2>Data Augmentation\n",
        "For smaller datasets, you can artificially expand the dataset using augmentation techniques.\n",
        "\n",
        "<h2>Text Data:\n",
        "\n",
        "<h2>Synonym replacement.\n",
        "Sentence shuffling.\n",
        "Adding noise.\n",
        "Image Data:\n",
        "\n",
        "<h2>Rotate, crop, or flip images.\n",
        "Adjust brightness or contrast.\n",
        "Code Example: Text Data Augmentation"
      ],
      "metadata": {
        "id": "3li8yJ1hS79B"
      }
    },
    {
      "cell_type": "code",
      "source": [
        "import random\n",
        "import string\n",
        "\n",
        "# Original sentence\n",
        "sentence = \"Machine learning is amazing.\"\n",
        "\n",
        "# Synonym replacement\n",
        "synonyms = {\"amazing\": [\"awesome\", \"fantastic\", \"incredible\"]}\n",
        "\n",
        "# Replace one word with a synonym\n",
        "words = sentence.split()\n",
        "word_to_replace = \"amazing\"\n",
        "\n",
        "# Check each word without punctuation\n",
        "for i, word in enumerate(words):\n",
        "    stripped_word = word.strip(string.punctuation)  # Remove punctuation for comparison\n",
        "    if stripped_word == word_to_replace:\n",
        "        words[i] = random.choice(synonyms[word_to_replace]) + word[len(stripped_word):]  # Preserve punctuation\n",
        "\n",
        "augmented_sentence = \" \".join(words)\n",
        "print(\"Original Sentence:\", sentence)\n",
        "print(\"Augmented Sentence:\", augmented_sentence)\n"
      ],
      "metadata": {
        "id": "HyfoO2b7S8Et",
        "colab": {
          "base_uri": "https://localhost:8080/"
        },
        "outputId": "2ecd2a2c-752b-46ba-bc3d-3b25473d1daf"
      },
      "execution_count": null,
      "outputs": [
        {
          "output_type": "stream",
          "name": "stdout",
          "text": [
            "Original Sentence: Machine learning is amazing.\n",
            "Augmented Sentence: Machine learning is awesome.\n"
          ]
        }
      ]
    },
    {
      "cell_type": "markdown",
      "source": [
        "<h2><u>Lecture Notes: Segment 3 – Train/Dev/Test Splits</u>\n",
        "\n",
        "<h2>What Are Train/Dev/Test Splits?\n",
        "<h2>Machine learning models need to be evaluated carefully to ensure they perform well on unseen data. To achieve this, the dataset is divided into three distinct parts:\n",
        "\n",
        "<h2>Training Set: Used to teach the model. The model learns patterns and relationships in the data.\n",
        "Validation Set (Dev Set): Used to fine-tune the model, adjust hyperparameters, and evaluate its performance during development.\n",
        "Test Set: Used to evaluate the final model's performance on unseen data.\n",
        "\n",
        "\n",
        "\n",
        "\n",
        "\n",
        "<h2>Why Split the Dataset?\n",
        "Prevent Overfitting:\n",
        "\n",
        "<h2>Overfitting occurs when the model performs well on the training set but fails to generalize to new data.\n",
        "Proper splits ensure the model doesn't memorize training data but learns patterns.\n",
        "Assess Generalization:\n",
        "\n",
        "<h2>The validation and test sets help us measure how well the model generalizes to new, unseen data.\n",
        "Tune Hyperparameters:\n",
        "\n",
        "<h2>Use the validation set to find the best model settings (e.g., learning rate, depth of a decision tree).\n",
        "\n",
        "\n",
        "\n",
        "\n",
        "\n",
        "<h2>How to Split the Dataset\n",
        "Common Splitting Ratios:\n",
        "Standard Ratio:\n",
        "Training: 70%\n",
        "Validation: 15%\n",
        "Test: 15%\n",
        "For Small Datasets:\n",
        "Training: 80%\n",
        "Validation: 10%\n",
        "Test: 10%\n",
        "For Time-Series Data:\n",
        "Splits are sequential (e.g., earlier data for training, later data for testing).\n",
        "Best Practices:\n",
        "Always shuffle the data before splitting (except for time-series data).\n",
        "Ensure that all splits have the same class distribution (stratified sampling).\n",
        "\n",
        "\n",
        "\n",
        "<h2>Code Example: Train/Dev/Test Splits with scikit-learn\n",
        "Let’s split a dataset into training, validation, and test sets."
      ],
      "metadata": {
        "id": "j513fsi0S8L-"
      }
    },
    {
      "cell_type": "code",
      "source": [
        "from sklearn.datasets import load_iris\n",
        "from sklearn.model_selection import train_test_split\n",
        "\n",
        "# Load the Iris dataset\n",
        "iris = load_iris()\n",
        "X, y = iris.data, iris.target\n",
        "\n",
        "# Split into training (70%) and temp (30%) sets\n",
        "X_train, X_temp, y_train, y_temp = train_test_split(X, y, test_size=0.3, random_state=42, stratify=y)\n",
        "\n",
        "# Split temp set into validation (15%) and test (15%)\n",
        "X_val, X_test, y_val, y_test = train_test_split(X_temp, y_temp, test_size=0.5, random_state=42, stratify=y_temp)\n",
        "\n",
        "print(\"Training set size:\", len(X_train))\n",
        "print(\"Validation set size:\", len(X_val))\n",
        "print(\"Test set size:\", len(X_test))\n"
      ],
      "metadata": {
        "id": "wAdmZV5DS8a1",
        "colab": {
          "base_uri": "https://localhost:8080/"
        },
        "outputId": "d8221493-4b63-4e49-f163-7597dde53e26"
      },
      "execution_count": null,
      "outputs": [
        {
          "output_type": "stream",
          "name": "stdout",
          "text": [
            "Training set size: 105\n",
            "Validation set size: 22\n",
            "Test set size: 23\n"
          ]
        }
      ]
    },
    {
      "cell_type": "markdown",
      "source": [
        "<h2>Visualizing the Split\n",
        "To better understand how the splits work, let’s visualize the distribution of data."
      ],
      "metadata": {
        "id": "6Tdj1XqGY717"
      }
    },
    {
      "cell_type": "code",
      "source": [
        "import matplotlib.pyplot as plt\n",
        "\n",
        "# Example class distribution\n",
        "classes = [\"Class 0\", \"Class 1\", \"Class 2\"]\n",
        "train_counts = [sum(y_train == i) for i in range(3)]\n",
        "val_counts = [sum(y_val == i) for i in range(3)]\n",
        "test_counts = [sum(y_test == i) for i in range(3)]\n",
        "\n",
        "# Bar plot\n",
        "plt.bar(classes, train_counts, label=\"Training Set\")\n",
        "plt.bar(classes, val_counts, label=\"Validation Set\", alpha=0.7)\n",
        "plt.bar(classes, test_counts, label=\"Test Set\", alpha=0.5)\n",
        "plt.legend()\n",
        "plt.title(\"Class Distribution Across Splits\")\n",
        "plt.xlabel(\"Classes\")\n",
        "plt.ylabel(\"Count\")\n",
        "plt.show()\n"
      ],
      "metadata": {
        "colab": {
          "base_uri": "https://localhost:8080/",
          "height": 472
        },
        "id": "BjutjWlbY78t",
        "outputId": "25e2ec61-a7af-4f4a-a63d-14287721d147"
      },
      "execution_count": null,
      "outputs": [
        {
          "output_type": "display_data",
          "data": {
            "text/plain": [
              "<Figure size 640x480 with 1 Axes>"
            ],
            "image/png": "[encoded data removed]"
          },
          "metadata": {}
        }
      ]
    },
    {
      "cell_type": "markdown",
      "source": [
        "<h2>Challenges in Train/Dev/Test Splits\n",
        "Data Leakage:\n",
        "\n",
        "<h2>Occurs when information from the test set is accidentally used during training.\n",
        "Example: Normalizing the entire dataset before splitting.\n",
        "Solution: Always split the data first, then preprocess each split separately.\n",
        "Imbalanced Datasets:\n",
        "\n",
        "<h2>When one class dominates the dataset, splitting randomly might lead to uneven class distributions.\n",
        "Solution: Use stratified sampling to maintain the class ratio across splits.\n",
        "Small Datasets:\n",
        "\n",
        "<h2>Splitting a small dataset reduces the amount of data available for training.\n",
        "Solution: Use cross-validation instead of a fixed split.\n",
        "\n",
        "\n",
        "\n",
        "<h2>Stratified Sampling Example\n",
        "Stratified sampling ensures that class proportions remain consistent across splits."
      ],
      "metadata": {
        "id": "ChtACDRIY8Es"
      }
    },
    {
      "cell_type": "code",
      "source": [
        "from sklearn.model_selection import train_test_split\n",
        "import numpy as np\n",
        "\n",
        "# Simulated dataset with imbalanced classes\n",
        "X = np.array([[i] for i in range(100)])\n",
        "y = [0] * 90 + [1] * 10  # 90% Class 0, 10% Class 1\n",
        "\n",
        "# Stratified split\n",
        "X_train, X_test, y_train, y_test = train_test_split(X, y, test_size=0.3, stratify=y, random_state=42)\n",
        "\n",
        "print(\"Class Distribution in Training Set:\", np.bincount(y_train))\n",
        "print(\"Class Distribution in Test Set:\", np.bincount(y_test))\n"
      ],
      "metadata": {
        "colab": {
          "base_uri": "https://localhost:8080/"
        },
        "id": "9K-0PVNkY8Kj",
        "outputId": "64db9e47-823f-4b6a-ac37-0f17ba51d365"
      },
      "execution_count": null,
      "outputs": [
        {
          "output_type": "stream",
          "name": "stdout",
          "text": [
            "Class Distribution in Training Set: [63  7]\n",
            "Class Distribution in Test Set: [27  3]\n"
          ]
        }
      ]
    },
    {
      "cell_type": "markdown",
      "source": [
        "<h2>Cross-Validation for Small Datasets\n",
        "Instead of a fixed split, cross-validation divides the dataset into k-folds and trains the model multiple times, using a different fold for validation each time.\n",
        "\n",
        "<h2>Code Example: k-Fold Cross-Validation"
      ],
      "metadata": {
        "id": "MAKq7A_ZY8Ro"
      }
    },
    {
      "cell_type": "code",
      "source": [
        "from sklearn.model_selection import KFold\n",
        "from sklearn.linear_model import LogisticRegression\n",
        "from sklearn.metrics import accuracy_score\n",
        "import numpy as np\n",
        "\n",
        "# Simulated dataset\n",
        "X = np.random.rand(100, 2)\n",
        "y = np.random.randint(0, 2, size=100)\n",
        "\n",
        "# k-Fold Cross-Validation\n",
        "kf = KFold(n_splits=5, shuffle=True, random_state=42)\n",
        "model = LogisticRegression()\n",
        "\n",
        "for train_index, test_index in kf.split(X):\n",
        "    X_train, X_test = X[train_index], X[test_index]\n",
        "    y_train, y_test = y[train_index], y[test_index]\n",
        "\n",
        "    model.fit(X_train, y_train)\n",
        "    y_pred = model.predict(X_test)\n",
        "\n",
        "    print(\"Fold Accuracy:\", accuracy_score(y_test, y_pred))\n"
      ],
      "metadata": {
        "colab": {
          "base_uri": "https://localhost:8080/"
        },
        "id": "-WY01zWCY8YP",
        "outputId": "a7706ef0-907e-4abe-fd35-576c27c54881"
      },
      "execution_count": null,
      "outputs": [
        {
          "output_type": "stream",
          "name": "stdout",
          "text": [
            "Fold Accuracy: 0.45\n",
            "Fold Accuracy: 0.45\n",
            "Fold Accuracy: 0.55\n",
            "Fold Accuracy: 0.25\n",
            "Fold Accuracy: 0.5\n"
          ]
        }
      ]
    },
    {
      "cell_type": "markdown",
      "source": [
        "<h2>Train/Dev/Test Splits for Time-Series Data\n",
        "For time-series data, you cannot shuffle the dataset because the temporal order is essential. Splits must respect the time order.\n",
        "\n",
        "<h2>Code Example: Sequential Splits for Time-Series Data"
      ],
      "metadata": {
        "id": "QkczHmZuY8e_"
      }
    },
    {
      "cell_type": "code",
      "source": [
        "import numpy as np\n",
        "\n",
        "# Simulated time-series data\n",
        "time_data = np.arange(100)\n",
        "target = np.sin(time_data / 10)\n",
        "\n",
        "# Sequential split\n",
        "train_size = int(0.7 * len(time_data))\n",
        "X_train, X_test = time_data[:train_size], time_data[train_size:]\n",
        "y_train, y_test = target[:train_size], target[train_size:]\n",
        "\n",
        "print(\"Training Data:\", X_train[:5], \"->\", y_train[:5])\n",
        "print(\"Test Data:\", X_test[:5], \"->\", y_test[:5])\n"
      ],
      "metadata": {
        "colab": {
          "base_uri": "https://localhost:8080/"
        },
        "id": "Dm0lm9usY8lW",
        "outputId": "c38cf41a-4142-4f0a-e05a-fdb59b86dfac"
      },
      "execution_count": null,
      "outputs": [
        {
          "output_type": "stream",
          "name": "stdout",
          "text": [
            "Training Data: [0 1 2 3 4] -> [0.         0.09983342 0.19866933 0.29552021 0.38941834]\n",
            "Test Data: [70 71 72 73 74] -> [0.6569866  0.72896904 0.79366786 0.85043662 0.8987081 ]\n"
          ]
        }
      ]
    },
    {
      "cell_type": "markdown",
      "source": [
        "<h2>Lecture Notes: Segment 4 – How to Build Your Own Dataset\n",
        "\n",
        "<h2>Introduction\n",
        "Building your own dataset is a critical step in machine learning, especially when you don’t have access to an existing dataset that suits your problem. A well-prepared dataset directly influences your model’s performance and generalization.\n",
        "\n",
        "<h2>In this segment, we’ll cover:\n",
        "\n",
        "<h2>How to define your problem and collect data.\n",
        "Methods for cleaning and preprocessing raw data.\n",
        "Annotating the dataset to provide labels.\n",
        "Splitting the dataset for training, validation, and testing.\n",
        "\n",
        "\n",
        "<h2>1. Define the Problem\n",
        "Before you begin, clearly define the task you want to solve.\n",
        "\n",
        "<h2>Examples of Problems:\n",
        "Text Classification: Determine the sentiment of a review (positive/negative).\n",
        "Object Detection: Identify objects in images (e.g., cars, people).\n",
        "Regression: Predict house prices based on features like size and location.\n",
        "Key Questions to Ask:\n",
        "What is the input (features)?\n",
        "What is the output (labels)?\n",
        "What kind of data will you collect (text, images, numbers)?\n",
        "How much data do you need?\n",
        "\n",
        "\n",
        "\n",
        "\n",
        "<h2>2. Collect Data\n",
        "Once the problem is defined, collect raw data from sources like:\n",
        "\n",
        "<h2>APIs: Use public APIs to fetch structured data.\n",
        "Example: Twitter API for tweets, OpenWeather API for weather data.\n",
        "Web Scraping: Extract unstructured data from websites using libraries like `requests` and `BeautifulSoup`.\n",
        "Manual Data Entry: Enter small datasets manually (e.g., survey responses).\n",
        "Simulated Data: Generate synthetic data for controlled experiments.\n",
        "\n",
        "<h2>Code Example: Scraping Data Using `BeautifulSoup`"
      ],
      "metadata": {
        "id": "m21nhnKlY8s1"
      }
    },
    {
      "cell_type": "code",
      "source": [
        "import requests\n",
        "from bs4 import BeautifulSoup\n",
        "\n",
        "# URL of the website to scrape\n",
        "url = \"https://example.com/news\"\n",
        "response = requests.get(url)\n",
        "soup = BeautifulSoup(response.text, 'html.parser')\n",
        "\n",
        "# Extract headlines from the webpage\n",
        "headlines = [h.text.strip() for h in soup.find_all('h2')]\n",
        "print(\"Sample Headlines:\", headlines[:5])\n"
      ],
      "metadata": {
        "colab": {
          "base_uri": "https://localhost:8080/"
        },
        "id": "_UJ1H_ZHY8y8",
        "outputId": "3193f474-b4d5-45c5-bbc4-1178cce0d523"
      },
      "execution_count": null,
      "outputs": [
        {
          "output_type": "stream",
          "name": "stdout",
          "text": [
            "Sample Headlines: []\n"
          ]
        }
      ]
    },
    {
      "cell_type": "markdown",
      "source": [
        "<h2>Code Example: Fetching Data Using an API"
      ],
      "metadata": {
        "id": "9gIR-44VY86b"
      }
    },
    {
      "cell_type": "code",
      "source": [
        "import requests\n",
        "\n",
        "# Example: Fetch data from a public API\n",
        "url = \"https://api.openweathermap.org/data/2.5/weather\"\n",
        "params = {\n",
        "    \"q\": \"London\",\n",
        "    \"appid\": \"your_api_key\",  # Replace with your actual API key\n",
        "}\n",
        "\n",
        "response = requests.get(url, params=params)\n",
        "\n",
        "# Check if the request was successful\n",
        "if response.status_code == 200:\n",
        "    data = response.json()\n",
        "    print(\"City:\", data.get(\"name\", \"Unknown\"))\n",
        "    print(\"Weather:\", data[\"weather\"][0][\"description\"] if \"weather\" in data else \"No weather data\")\n",
        "    print(\"Temperature:\", data[\"main\"][\"temp\"], \"K\" if \"main\" in data else \"No temperature data\")\n",
        "else:\n",
        "    print(\"Error:\", response.status_code, \"-\", response.json().get(\"message\", \"Unknown error\"))\n"
      ],
      "metadata": {
        "colab": {
          "base_uri": "https://localhost:8080/"
        },
        "id": "0GlmDHf0Y9Aw",
        "outputId": "316a6783-3c6b-4704-9e4b-4a04d39b87e0"
      },
      "execution_count": null,
      "outputs": [
        {
          "output_type": "stream",
          "name": "stdout",
          "text": [
            "Error: 401 - Invalid API key. Please see https://openweathermap.org/faq#error401 for more info.\n"
          ]
        }
      ]
    },
    {
      "cell_type": "markdown",
      "source": [
        "<h2>3. Clean and Preprocess the Data\n",
        "Raw data often contains noise, duplicates, or missing values that need to be cleaned.\n",
        "\n",
        "<h2>Steps to Clean Data:\n",
        "Remove Duplicates:\n",
        "Avoid redundant data points that can bias the model.\n",
        "Handle Missing Values:\n",
        "Replace missing values with mean/median for numerical data or a placeholder for text.\n",
        "Normalize Data:\n",
        "Convert text to lowercase, remove special characters, and standardize formats.\n",
        "Code Example: Cleaning Text Data"
      ],
      "metadata": {
        "id": "pKcmJc_TY9Ht"
      }
    },
    {
      "cell_type": "code",
      "source": [
        "import pandas as pd\n",
        "import re\n",
        "\n",
        "# Example dataset\n",
        "data = pd.DataFrame({\n",
        "    \"Text\": [\"I love Python!\", \"Python is amazing!!!\", \"I love data science.\", None],\n",
        "    \"Label\": [1, 1, 1, 0],\n",
        "})\n",
        "\n",
        "# Drop missing values\n",
        "data = data.dropna()\n",
        "\n",
        "# Normalize text\n",
        "def clean_text(text):\n",
        "    text = text.lower()  # Convert to lowercase\n",
        "    text = re.sub(r'[^\\w\\s]', '', text)  # Remove punctuation\n",
        "    return text\n",
        "\n",
        "data['Text'] = data['Text'].apply(clean_text)\n",
        "print(\"Cleaned Data:\")\n",
        "print(data)\n"
      ],
      "metadata": {
        "colab": {
          "base_uri": "https://localhost:8080/"
        },
        "id": "o9xnnlMPY9OP",
        "outputId": "746be72b-e4ec-4439-a0af-19cda0f74b63"
      },
      "execution_count": null,
      "outputs": [
        {
          "output_type": "stream",
          "name": "stdout",
          "text": [
            "Cleaned Data:\n",
            "                  Text  Label\n",
            "0        i love python      1\n",
            "1    python is amazing      1\n",
            "2  i love data science      1\n"
          ]
        }
      ]
    },
    {
      "cell_type": "markdown",
      "source": [
        "<h2>4. Annotate the Data\n",
        "Annotations are labels that define the \"ground truth\" for supervised learning.\n",
        "\n",
        "<h2>Manual Annotation:\n",
        "Use tools like Doccano for text data.\n",
        "Use LabelImg for image data.\n",
        "Automated Annotation:\n",
        "Use rule-based or pre-trained models to pre-label the data, and then manually correct errors.\n",
        "Activity: Manual Annotation with Text\n",
        "Create a text dataset (e.g., product reviews).\n",
        "Label each review as \"Positive\" or \"Negative\".\n",
        "Code Example: Automated Annotation"
      ],
      "metadata": {
        "id": "xjxW_ok4Y9VN"
      }
    },
    {
      "cell_type": "code",
      "source": [
        "import spacy\n",
        "\n",
        "# Load a pre-trained spaCy model\n",
        "nlp = spacy.load(\"en_core_web_sm\")\n",
        "\n",
        "# Sample sentences\n",
        "sentences = [\"Apple is a great company.\", \"The weather is terrible today.\"]\n",
        "\n",
        "# Annotate named entities\n",
        "for sentence in sentences:\n",
        "    doc = nlp(sentence)\n",
        "    for ent in doc.ents:\n",
        "        print(f\"Entity: {ent.text}, Label: {ent.label_}\")\n"
      ],
      "metadata": {
        "colab": {
          "base_uri": "https://localhost:8080/"
        },
        "id": "IQl0OSIcY9bs",
        "outputId": "8c333dc3-8af0-4b75-f6e3-d18692409065"
      },
      "execution_count": null,
      "outputs": [
        {
          "output_type": "stream",
          "name": "stdout",
          "text": [
            "Entity: Apple, Label: ORG\n",
            "Entity: today, Label: DATE\n"
          ]
        }
      ]
    },
    {
      "cell_type": "markdown",
      "source": [
        "<h2>5. Split the Dataset\n",
        "After preparing the dataset, divide it into training, validation, and test sets.\n",
        "\n",
        "<h2>Code Example: Splitting Data"
      ],
      "metadata": {
        "id": "mpr7WyatY9i0"
      }
    },
    {
      "cell_type": "code",
      "source": [
        "from sklearn.model_selection import train_test_split\n",
        "\n",
        "# Example dataset\n",
        "texts = [\"I love programming.\", \"Python is awesome.\", \"I hate bugs.\", \"Debugging is fun.\"]\n",
        "labels = [1, 1, 0, 1]  # 1 = Positive, 0 = Negative\n",
        "\n",
        "# Split data into training and test sets\n",
        "X_train, X_test, y_train, y_test = train_test_split(texts, labels, test_size=0.3, random_state=42)\n",
        "\n",
        "print(\"Training Data:\", X_train)\n",
        "print(\"Test Data:\", X_test)\n"
      ],
      "metadata": {
        "colab": {
          "base_uri": "https://localhost:8080/"
        },
        "id": "QfoBrs4BY9pl",
        "outputId": "8ae09146-af8b-44c1-d162-61b1d7d917ab"
      },
      "execution_count": null,
      "outputs": [
        {
          "output_type": "stream",
          "name": "stdout",
          "text": [
            "Training Data: ['I love programming.', 'I hate bugs.']\n",
            "Test Data: ['Python is awesome.', 'Debugging is fun.']\n"
          ]
        }
      ]
    },
    {
      "cell_type": "markdown",
      "source": [
        "<h2>6. Store the Dataset\n",
        "Save your dataset in a format that can be easily loaded for training.\n",
        "\n",
        "<h2>File Formats:\n",
        "CSV: Use for tabular data.\n",
        "JSON: Use for hierarchical or nested data.\n",
        "Images: Store with filenames indicating labels (e.g., cat_01.jpg).\n",
        "Code Example: Save and Load a Dataset"
      ],
      "metadata": {
        "id": "ualfwgskY9wp"
      }
    },
    {
      "cell_type": "code",
      "source": [
        "import pandas as pd\n",
        "\n",
        "# Save dataset to CSV\n",
        "data.to_csv(\"dataset.csv\", index=False)\n",
        "\n",
        "# Load dataset\n",
        "loaded_data = pd.read_csv(\"dataset.csv\")\n",
        "print(\"Loaded Data:\")\n",
        "print(loaded_data.head())\n"
      ],
      "metadata": {
        "colab": {
          "base_uri": "https://localhost:8080/"
        },
        "id": "K_NJm9zmY94c",
        "outputId": "6ffb68f4-db01-4f74-c051-97d76d655311"
      },
      "execution_count": null,
      "outputs": [
        {
          "output_type": "stream",
          "name": "stdout",
          "text": [
            "Loaded Data:\n",
            "                  Text  Label\n",
            "0        i love python      1\n",
            "1    python is amazing      1\n",
            "2  i love data science      1\n"
          ]
        }
      ]
    },
    {
      "cell_type": "markdown",
      "source": [
        "<h2>Lecture Notes: Segment 5 – Preprocessing and Feature Selection Using NLTK, scikit-learn, and spaCy\n",
        "\n",
        "<h2>Introduction\n",
        "Before using data to train machine learning models, we need to prepare it. Preprocessing involves cleaning and transforming raw data into a usable format. For text data, preprocessing includes tasks like tokenization, stopword removal, and converting text into numerical features.\n",
        "\n",
        "<h2>In this segment, we’ll cover:\n",
        "\n",
        "<h2>What is preprocessing and why it’s important.\n",
        "Preprocessing text data using NLTK, scikit-learn, and spaCy.\n",
        "Feature selection: Converting text into numerical features (TF-IDF, Bag of Words).\n",
        "Practical examples and activities for hands-on learning.\n",
        "\n",
        "\n",
        "\n",
        "<h2>1. What Is Preprocessing?\n",
        "Preprocessing is the process of cleaning and transforming raw data to make it usable for machine learning. It’s crucial because:\n",
        "\n",
        "<h2>Raw data is often noisy and inconsistent.\n",
        "Machine learning models work with numerical data, so text needs to be converted into numbers.\n",
        "Proper preprocessing ensures the model learns meaningful patterns.\n",
        "\n",
        "\n",
        "<h2>2. Common Text Preprocessing Steps\n",
        "Tokenization:\n",
        "\n",
        "<h2>Splitting text into smaller units like words or sentences.\n",
        "Example: \"I love Python!\" → [\"I\", \"love\", \"Python\", \"!\"]\n",
        "Stopword Removal:\n",
        "\n",
        "<h2>Removing common words like \"and\", \"the\", and \"is\" that do not carry much meaning.\n",
        "Stemming:\n",
        "\n",
        "<h2>Reducing words to their root forms.\n",
        "Example: \"running\", \"runner\" → \"run\"\n",
        "Lemmatization:\n",
        "\n",
        "<h2>Converting words to their base forms using vocabulary and grammar rules.\n",
        "Example: \"running\" → \"run\"\n",
        "Lowercasing:\n",
        "\n",
        "<h2>Converting all text to lowercase to reduce redundancy.\n",
        "Removing Punctuation:\n",
        "\n",
        "<h2>Eliminating characters like \".\", \",\", and \"!\".\n",
        "Converting Text to Numbers:\n",
        "\n",
        "<h2>Using techniques like Bag of Words (BoW) or TF-IDF to represent text numerically.\n",
        "\n",
        "<h2>3. Preprocessing Text with NLTK\n",
        "Code Example: Tokenization and Stopword Removal"
      ],
      "metadata": {
        "id": "8MDFCV6SY9_8"
      }
    },
    {
      "cell_type": "code",
      "source": [
        "import nltk\n",
        "from nltk.corpus import stopwords\n",
        "import re\n",
        "\n",
        "# Download necessary resources\n",
        "nltk.download('stopwords')\n",
        "\n",
        "# Sample text\n",
        "text = \"Natural Language Processing is an exciting field of Artificial Intelligence!\"\n",
        "\n",
        "# Tokenization using Python's built-in regular expressions\n",
        "tokens = re.findall(r'\\b\\w+\\b', text)\n",
        "print(\"Tokens:\", tokens)\n",
        "\n",
        "# Stopword Removal\n",
        "stop_words = set(stopwords.words('english'))\n",
        "filtered_tokens = [word for word in tokens if word.lower() not in stop_words]\n",
        "print(\"Filtered Tokens:\", filtered_tokens)\n"
      ],
      "metadata": {
        "id": "XCgEGFT8Y-Hy",
        "colab": {
          "base_uri": "https://localhost:8080/"
        },
        "outputId": "a9f7b22e-7587-45b0-8073-496e534eb1bf"
      },
      "execution_count": null,
      "outputs": [
        {
          "output_type": "stream",
          "name": "stdout",
          "text": [
            "Tokens: ['Natural', 'Language', 'Processing', 'is', 'an', 'exciting', 'field', 'of', 'Artificial', 'Intelligence']\n",
            "Filtered Tokens: ['Natural', 'Language', 'Processing', 'exciting', 'field', 'Artificial', 'Intelligence']\n"
          ]
        },
        {
          "output_type": "stream",
          "name": "stderr",
          "text": [
            "[nltk_data] Downloading package stopwords to /root/nltk_data...\n",
            "[nltk_data]   Package stopwords is already up-to-date!\n"
          ]
        }
      ]
    },
    {
      "cell_type": "markdown",
      "source": [
        "<h2>Code Example: Stemming"
      ],
      "metadata": {
        "id": "Zc98K0H1n3WR"
      }
    },
    {
      "cell_type": "code",
      "source": [
        "from nltk.stem import PorterStemmer\n",
        "\n",
        "# Initialize stemmer\n",
        "stemmer = PorterStemmer()\n",
        "\n",
        "# Example words\n",
        "words = [\"running\", \"runner\", \"ran\", \"easily\", \"fairness\"]\n",
        "\n",
        "# Apply stemming\n",
        "stems = [stemmer.stem(word) for word in words]\n",
        "print(\"Stemmed Words:\", stems)"
      ],
      "metadata": {
        "colab": {
          "base_uri": "https://localhost:8080/"
        },
        "id": "QQWVUDH4n3d3",
        "outputId": "02999fdb-8f28-43f3-b79b-f931fc8d5d8e"
      },
      "execution_count": null,
      "outputs": [
        {
          "output_type": "stream",
          "name": "stdout",
          "text": [
            "Stemmed Words: ['run', 'runner', 'ran', 'easili', 'fair']\n"
          ]
        }
      ]
    },
    {
      "cell_type": "markdown",
      "source": [
        "<h2>Code Example: Lemmatization"
      ],
      "metadata": {
        "id": "8RMNE5efn3mP"
      }
    },
    {
      "cell_type": "code",
      "source": [
        "from nltk.stem import WordNetLemmatizer\n",
        "\n",
        "# Download WordNet\n",
        "nltk.download('wordnet')\n",
        "lemmatizer = WordNetLemmatizer()\n",
        "\n",
        "# Example words\n",
        "words = [\"running\", \"runner\", \"better\", \"easily\", \"fairness\"]\n",
        "\n",
        "# Apply lemmatization\n",
        "lemmas = [lemmatizer.lemmatize(word) for word in words]\n",
        "print(\"Lemmatized Words:\", lemmas)\n"
      ],
      "metadata": {
        "colab": {
          "base_uri": "https://localhost:8080/"
        },
        "id": "gpaTdBgIn3tM",
        "outputId": "9ae75e9f-9765-4529-a7c7-b7832b310086"
      },
      "execution_count": null,
      "outputs": [
        {
          "output_type": "stream",
          "name": "stderr",
          "text": [
            "[nltk_data] Downloading package wordnet to /root/nltk_data...\n"
          ]
        },
        {
          "output_type": "stream",
          "name": "stdout",
          "text": [
            "Lemmatized Words: ['running', 'runner', 'better', 'easily', 'fairness']\n"
          ]
        }
      ]
    },
    {
      "cell_type": "markdown",
      "source": [
        "<h2>4. Preprocessing Text with spaCy\n",
        "Code Example: Tokenization and Lemmatization"
      ],
      "metadata": {
        "id": "a8jXpXhDn30o"
      }
    },
    {
      "cell_type": "code",
      "source": [
        "import spacy\n",
        "\n",
        "# Load spaCy model\n",
        "nlp = spacy.load(\"en_core_web_sm\")\n",
        "\n",
        "# Sample text\n",
        "text = \"Natural Language Processing is an exciting field of Artificial Intelligence!\"\n",
        "\n",
        "# Process text with spaCy\n",
        "doc = nlp(text)\n",
        "\n",
        "# Tokenization\n",
        "tokens = [token.text for token in doc]\n",
        "print(\"Tokens:\", tokens)\n",
        "\n",
        "# Lemmatization\n",
        "lemmas = [token.lemma_ for token in doc if not token.is_stop]\n",
        "print(\"Lemmas (without stopwords):\", lemmas)\n"
      ],
      "metadata": {
        "colab": {
          "base_uri": "https://localhost:8080/"
        },
        "id": "lFRUh7L4n36x",
        "outputId": "c8a45f31-4bed-48c6-eb95-aa044a48460d"
      },
      "execution_count": null,
      "outputs": [
        {
          "output_type": "stream",
          "name": "stdout",
          "text": [
            "Tokens: ['Natural', 'Language', 'Processing', 'is', 'an', 'exciting', 'field', 'of', 'Artificial', 'Intelligence', '!']\n",
            "Lemmas (without stopwords): ['Natural', 'Language', 'Processing', 'exciting', 'field', 'Artificial', 'Intelligence', '!']\n"
          ]
        }
      ]
    },
    {
      "cell_type": "markdown",
      "source": [
        "# Code Example: Named Entity Recognition"
      ],
      "metadata": {
        "id": "DmVqWzh7n4Cu"
      }
    },
    {
      "cell_type": "code",
      "source": [
        "# Extract named entities\n",
        "for ent in doc.ents:\n",
        "    print(f\"Entity: {ent.text}, Label: {ent.label_}\")\n"
      ],
      "metadata": {
        "colab": {
          "base_uri": "https://localhost:8080/"
        },
        "id": "kuPUuFmmn4JV",
        "outputId": "533539e2-6d21-496d-8bd2-b84526a8a6d4"
      },
      "execution_count": null,
      "outputs": [
        {
          "output_type": "stream",
          "name": "stdout",
          "text": [
            "Entity: Artificial Intelligence, Label: ORG\n"
          ]
        }
      ]
    },
    {
      "cell_type": "markdown",
      "source": [
        "<h2>5. Feature Selection\n",
        "After preprocessing, the text must be converted into a numerical format that machine learning models can understand. Common techniques include:\n",
        "\n",
        "<h2>Bag of Words (BoW):\n",
        "\n",
        "<h2>Represents text as a collection of word counts.\n",
        "Example: \"I love Python\" → {\"I\": 1, \"love\": 1, \"Python\": 1}\n",
        "TF-IDF (Term Frequency - Inverse Document Frequency):\n",
        "\n",
        "<h2>Weighs words based on how important they are in a document relative to a collection of documents.\n",
        "Code Example: Bag of Words Using scikit-learn"
      ],
      "metadata": {
        "id": "zEPVVB9on4S-"
      }
    },
    {
      "cell_type": "code",
      "source": [
        "from sklearn.feature_extraction.text import CountVectorizer\n",
        "\n",
        "# Sample text data\n",
        "corpus = [\n",
        "    \"I love programming in Python.\",\n",
        "    \"Python is great for machine learning.\",\n",
        "    \"I love machine learning and natural language processing.\"\n",
        "]\n",
        "\n",
        "# Create a Bag of Words model\n",
        "vectorizer = CountVectorizer()\n",
        "X = vectorizer.fit_transform(corpus)\n",
        "\n",
        "print(\"Feature Names:\", vectorizer.get_feature_names_out())\n",
        "print(\"Bag of Words Matrix:\\n\", X.toarray())\n"
      ],
      "metadata": {
        "colab": {
          "base_uri": "https://localhost:8080/"
        },
        "id": "Bmr56lJmn4aY",
        "outputId": "3d2aeefa-8b71-40bf-8dff-0df4389f2166"
      },
      "execution_count": null,
      "outputs": [
        {
          "output_type": "stream",
          "name": "stdout",
          "text": [
            "Feature Names: ['and' 'for' 'great' 'in' 'is' 'language' 'learning' 'love' 'machine'\n",
            " 'natural' 'processing' 'programming' 'python']\n",
            "Bag of Words Matrix:\n",
            " [[0 0 0 1 0 0 0 1 0 0 0 1 1]\n",
            " [0 1 1 0 1 0 1 0 1 0 0 0 1]\n",
            " [1 0 0 0 0 1 1 1 1 1 1 0 0]]\n"
          ]
        }
      ]
    },
    {
      "cell_type": "markdown",
      "source": [
        "<h2>Code Example: TF-IDF Using scikit-learn"
      ],
      "metadata": {
        "id": "4ng8QoEZS8mV"
      }
    },
    {
      "cell_type": "code",
      "source": [
        "from sklearn.feature_extraction.text import TfidfVectorizer\n",
        "\n",
        "# Create a TF-IDF model\n",
        "tfidf = TfidfVectorizer()\n",
        "X_tfidf = tfidf.fit_transform(corpus)\n",
        "\n",
        "print(\"Feature Names:\", tfidf.get_feature_names_out())\n",
        "print(\"TF-IDF Matrix:\\n\", X_tfidf.toarray())"
      ],
      "metadata": {
        "id": "N2-Ll3ubS8ue",
        "colab": {
          "base_uri": "https://localhost:8080/"
        },
        "outputId": "f1bb2487-387a-4371-c14a-e7d15f4b2438"
      },
      "execution_count": null,
      "outputs": [
        {
          "output_type": "stream",
          "name": "stdout",
          "text": [
            "Feature Names: ['and' 'for' 'great' 'in' 'is' 'language' 'learning' 'love' 'machine'\n",
            " 'natural' 'processing' 'programming' 'python']\n",
            "TF-IDF Matrix:\n",
            " [[0.         0.         0.         0.5628291  0.         0.\n",
            "  0.         0.42804604 0.         0.         0.         0.5628291\n",
            "  0.42804604]\n",
            " [0.         0.45954803 0.45954803 0.         0.45954803 0.\n",
            "  0.34949812 0.         0.34949812 0.         0.         0.\n",
            "  0.34949812]\n",
            " [0.41756662 0.         0.         0.         0.         0.41756662\n",
            "  0.31757018 0.31757018 0.31757018 0.41756662 0.41756662 0.\n",
            "  0.        ]]\n"
          ]
        }
      ]
    },
    {
      "cell_type": "markdown",
      "source": [
        "<h2>6. Combining Preprocessing Steps\n",
        "You can combine multiple preprocessing steps into a pipeline.\n",
        "\n",
        "<h2>Code Example: Custom Preprocessing Pipeline"
      ],
      "metadata": {
        "id": "rTPHY1_MS83m"
      }
    },
    {
      "cell_type": "code",
      "source": [
        "import re\n",
        "from sklearn.feature_extraction.text import TfidfVectorizer\n",
        "from sklearn.feature_extraction.text import ENGLISH_STOP_WORDS\n",
        "\n",
        "# Custom preprocessing function\n",
        "def preprocess_text(text):\n",
        "    # Lowercase\n",
        "    text = text.lower()\n",
        "    # Remove punctuation\n",
        "    text = re.sub(r'[^\\w\\s]', '', text)\n",
        "    # Tokenization using regular expressions\n",
        "    tokens = re.findall(r'\\b\\w+\\b', text)\n",
        "    # Remove stopwords\n",
        "    tokens = [word for word in tokens if word not in ENGLISH_STOP_WORDS]\n",
        "    return \" \".join(tokens)\n",
        "\n",
        "# Apply preprocessing to a dataset\n",
        "corpus = [\n",
        "    \"I love programming in Python!\",\n",
        "    \"Python is great for machine learning.\",\n",
        "    \"Natural language processing is amazing.\"\n",
        "]\n",
        "\n",
        "preprocessed_corpus = [preprocess_text(doc) for doc in corpus]\n",
        "print(\"Preprocessed Corpus:\", preprocessed_corpus)\n",
        "\n",
        "# Convert to TF-IDF features\n",
        "vectorizer = TfidfVectorizer()\n",
        "X = vectorizer.fit_transform(preprocessed_corpus)\n",
        "print(\"TF-IDF Matrix:\\n\", X.toarray())\n"
      ],
      "metadata": {
        "id": "KUXA_81XS8_2",
        "colab": {
          "base_uri": "https://localhost:8080/"
        },
        "outputId": "94d47ddb-3d21-4af5-f339-43b0ad4cc54e"
      },
      "execution_count": null,
      "outputs": [
        {
          "output_type": "stream",
          "name": "stdout",
          "text": [
            "Preprocessed Corpus: ['love programming python', 'python great machine learning', 'natural language processing amazing']\n",
            "TF-IDF Matrix:\n",
            " [[0.         0.         0.         0.         0.62276601 0.\n",
            "  0.         0.         0.62276601 0.4736296 ]\n",
            " [0.         0.52863461 0.         0.52863461 0.         0.52863461\n",
            "  0.         0.         0.         0.40204024]\n",
            " [0.5        0.         0.5        0.         0.         0.\n",
            "  0.5        0.5        0.         0.        ]]\n"
          ]
        }
      ]
    }
  ]
}